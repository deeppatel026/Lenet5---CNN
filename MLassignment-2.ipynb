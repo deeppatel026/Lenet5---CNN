{
  "cells": [
    {
      "cell_type": "code",
      "execution_count": 1,
      "metadata": {
        "colab": {
          "base_uri": "https://localhost:8080/"
        },
        "id": "Gz_UjC208-Js",
        "outputId": "3ffd1116-fa44-4d86-ca9c-4af216cf69d7"
      },
      "outputs": [
        {
          "output_type": "stream",
          "name": "stdout",
          "text": [
            "True\n"
          ]
        }
      ],
      "source": [
        "import torch\n",
        "import torch.nn as nn\n",
        "from tqdm.notebook import tqdm_notebook\n",
        "import torchvision\n",
        "import torchvision.transforms as transforms\n",
        "import numpy as np\n",
        "import matplotlib\n",
        "import matplotlib.pyplot as plt\n",
        "from torch.nn.modules.activation import ReLU\n",
        "\n",
        "print(torch.cuda.is_available())\n",
        "num_classes = 10\n",
        "batch_size = 64"
      ]
    },
    {
      "cell_type": "code",
      "execution_count": 2,
      "metadata": {
        "id": "UAZevP6c_LQ9"
      },
      "outputs": [],
      "source": [
        "device = torch.device('cuda' if torch.cuda.is_available() else 'cpu')\n",
        "class LeNet5(nn.Module):\n",
        "  def __init__(self,num_classes):\n",
        "    super(LeNet5,self).__init__()\n",
        "    self.layerbunch1 = nn.Sequential(\n",
        "        nn.Conv2d(in_channels=1, out_channels=6, kernel_size=5, stride=1, padding=0),#layer -1\n",
        "        nn.ReLU(),\n",
        "        nn.MaxPool2d(kernel_size=2) #layer - 2\n",
        "    )\n",
        "    self.layerbunch2 = nn.Sequential(\n",
        "        nn.Conv2d(in_channels=6, out_channels=16, kernel_size=5, stride=1, padding=0), #layer -3\n",
        "        nn.ReLU(),\n",
        "        nn.MaxPool2d(kernel_size=2) #layer -4\n",
        "    )\n",
        "    self.layerbunch3 = nn.Sequential(\n",
        "        nn.Conv2d(in_channels=16, out_channels=120, kernel_size=5, stride=1, padding=0), #layer -5\n",
        "        nn.ReLU()\n",
        "    )\n",
        "    self.fulllayer1 = nn.Linear(in_features=120, out_features=84, bias = True) #layer -6\n",
        "    self.relu = nn.ReLU()\n",
        "    self.fulllayer2 = nn.Linear(in_features=84, out_features=num_classes, bias = True) #layer -7 (final layer)\n",
        "\n",
        "\n",
        "  def forward(self, x):\n",
        "    output = self.layerbunch1(x)\n",
        "    output = self.layerbunch2(output)\n",
        "    output = self.layerbunch3(output)\n",
        "    output = output.reshape(output.size(0), -1)\n",
        "    output = self.fulllayer1(output)\n",
        "    output = self.relu(output)\n",
        "    output = self.fulllayer2(output)\n",
        "\n",
        "    return output"
      ]
    },
    {
      "cell_type": "code",
      "execution_count": 3,
      "metadata": {
        "id": "Xarqmi8GJAZM",
        "colab": {
          "base_uri": "https://localhost:8080/"
        },
        "outputId": "a5a864a8-53b3-4731-bd2c-28a7c6dc02eb"
      },
      "outputs": [
        {
          "output_type": "stream",
          "name": "stdout",
          "text": [
            "Downloading http://yann.lecun.com/exdb/mnist/train-images-idx3-ubyte.gz\n",
            "Downloading http://yann.lecun.com/exdb/mnist/train-images-idx3-ubyte.gz to ./data/MNIST/raw/train-images-idx3-ubyte.gz\n"
          ]
        },
        {
          "output_type": "stream",
          "name": "stderr",
          "text": [
            "100%|██████████| 9912422/9912422 [00:00<00:00, 323506110.09it/s]"
          ]
        },
        {
          "output_type": "stream",
          "name": "stdout",
          "text": [
            "Extracting ./data/MNIST/raw/train-images-idx3-ubyte.gz to ./data/MNIST/raw\n"
          ]
        },
        {
          "output_type": "stream",
          "name": "stderr",
          "text": [
            "\n"
          ]
        },
        {
          "output_type": "stream",
          "name": "stdout",
          "text": [
            "\n",
            "Downloading http://yann.lecun.com/exdb/mnist/train-labels-idx1-ubyte.gz\n",
            "Downloading http://yann.lecun.com/exdb/mnist/train-labels-idx1-ubyte.gz to ./data/MNIST/raw/train-labels-idx1-ubyte.gz\n"
          ]
        },
        {
          "output_type": "stream",
          "name": "stderr",
          "text": [
            "100%|██████████| 28881/28881 [00:00<00:00, 90063712.88it/s]\n"
          ]
        },
        {
          "output_type": "stream",
          "name": "stdout",
          "text": [
            "Extracting ./data/MNIST/raw/train-labels-idx1-ubyte.gz to ./data/MNIST/raw\n",
            "\n",
            "Downloading http://yann.lecun.com/exdb/mnist/t10k-images-idx3-ubyte.gz\n",
            "Downloading http://yann.lecun.com/exdb/mnist/t10k-images-idx3-ubyte.gz to ./data/MNIST/raw/t10k-images-idx3-ubyte.gz\n"
          ]
        },
        {
          "output_type": "stream",
          "name": "stderr",
          "text": [
            "100%|██████████| 1648877/1648877 [00:00<00:00, 122659159.62it/s]"
          ]
        },
        {
          "output_type": "stream",
          "name": "stdout",
          "text": [
            "Extracting ./data/MNIST/raw/t10k-images-idx3-ubyte.gz to ./data/MNIST/raw\n"
          ]
        },
        {
          "output_type": "stream",
          "name": "stderr",
          "text": [
            "\n"
          ]
        },
        {
          "output_type": "stream",
          "name": "stdout",
          "text": [
            "\n",
            "Downloading http://yann.lecun.com/exdb/mnist/t10k-labels-idx1-ubyte.gz\n",
            "Downloading http://yann.lecun.com/exdb/mnist/t10k-labels-idx1-ubyte.gz to ./data/MNIST/raw/t10k-labels-idx1-ubyte.gz\n"
          ]
        },
        {
          "output_type": "stream",
          "name": "stderr",
          "text": [
            "100%|██████████| 4542/4542 [00:00<00:00, 7697183.34it/s]"
          ]
        },
        {
          "output_type": "stream",
          "name": "stdout",
          "text": [
            "Extracting ./data/MNIST/raw/t10k-labels-idx1-ubyte.gz to ./data/MNIST/raw\n",
            "\n"
          ]
        },
        {
          "output_type": "stream",
          "name": "stderr",
          "text": [
            "\n"
          ]
        }
      ],
      "source": [
        "from torch.utils.data import dataset\n",
        "train_dataset = torchvision.datasets.MNIST(root='./data', \n",
        "                                           train = True, \n",
        "                                           transform= transforms.Compose(\n",
        "                                               [transforms.Resize((32,32)), \n",
        "                                                transforms.ToTensor(), ]),\n",
        "                                                download=True\n",
        "                                                \n",
        ")\n",
        "test_dataset = torchvision.datasets.MNIST(root='./data', \n",
        "                                           train = False, \n",
        "                                           transform= transforms.Compose(\n",
        "                                               [transforms.Resize((32,32)), \n",
        "                                                transforms.ToTensor(), ]),\n",
        "                                                download=True\n",
        ")\n",
        "\n",
        "train_dataloader = torch.utils.data.DataLoader(dataset = train_dataset, batch_size = 64, shuffle = True)\n",
        "test_dataloader = torch.utils.data.DataLoader(dataset=test_dataset, batch_size = 64, shuffle = True)"
      ]
    },
    {
      "cell_type": "code",
      "execution_count": 4,
      "metadata": {
        "id": "hPNm9p5kSo7u"
      },
      "outputs": [],
      "source": [
        "learning_rate = 0.001\n",
        "model = LeNet5(num_classes).to(device)\n",
        "\n",
        "# loss function\n",
        "criterion = nn.CrossEntropyLoss()\n",
        "\n",
        "# optimizer\n",
        "optimizer = torch.optim.Adam(model.parameters(), lr= learning_rate)"
      ]
    },
    {
      "cell_type": "code",
      "execution_count": 5,
      "metadata": {
        "id": "ANXMngSyfKJe"
      },
      "outputs": [],
      "source": [
        "def train(model, criterion, optimizer, num_epochs=10):\n",
        "  global total_training_loss \n",
        "  train_arr = []\n",
        "  \n",
        "  total_step = len(train_dataloader)\n",
        "\n",
        "  for epoch in range(num_epochs):\n",
        "    running_loss = 0\n",
        "    for i, (images, labels) in enumerate(train_dataloader):\n",
        "      images = images.to(device)\n",
        "      labels = labels.to(device)\n",
        "\n",
        "      # forward pass\n",
        "      output = model(images)\n",
        "      loss = criterion(output, labels)\n",
        "\n",
        "      # backward and optimize\n",
        "      optimizer.zero_grad() #setting prev grad to zero\n",
        "      loss.backward() #calculating new gradient\n",
        "      running_loss += loss.item() * images.size(0)\n",
        "      optimizer.step() \n",
        "\n",
        "      total_training_loss = loss.item()\n",
        "      train_arr.append(total_training_loss)\n",
        "      plt.plot(train_arr)\n",
        "\n",
        "    return total_training_loss"
      ]
    },
    {
      "cell_type": "code",
      "execution_count": 6,
      "metadata": {
        "id": "lvwXazMSQuaU"
      },
      "outputs": [],
      "source": [
        "def evaluate(test_dataloader, model, criterion, num_epochs=10):\n",
        "  global total_valid_loss \n",
        "  val_arr = []\n",
        "  running_loss = 0\n",
        "  model.eval()\n",
        "  for j, (images, labels) in enumerate(test_dataloader):\n",
        "    images = images.to(device)\n",
        "    labels = labels.to(device) \n",
        "\n",
        "    output = model(images)\n",
        "    loss = criterion(output, labels)\n",
        "    running_loss += loss.item() * images.size(0)\n",
        "\n",
        "    total_valid_loss = loss.item()\n",
        "    val_arr.append(total_valid_loss)\n",
        "    plt.plot(val_arr)\n",
        "    \n",
        "  return total_valid_loss"
      ]
    },
    {
      "cell_type": "code",
      "execution_count": 7,
      "metadata": {
        "id": "up9jlhQZXpTi"
      },
      "outputs": [],
      "source": [
        "def accuracy(model, data_loader, device):\n",
        "    \n",
        "    correct_pred = 0\n",
        "    n = 0\n",
        "    \n",
        "    with torch.no_grad():\n",
        "        model.eval()\n",
        "        for images, labels in data_loader:\n",
        "\n",
        "            images = images.to(device)\n",
        "            labels = labels.to(device)\n",
        "\n",
        "            output = model(images)\n",
        "            _, predicted_labels = output.max(1)\n",
        "\n",
        "            n += labels.size(0)\n",
        "            correct_pred += (predicted_labels == labels).sum()\n",
        "\n",
        "    return correct_pred.float()/ n"
      ]
    },
    {
      "cell_type": "code",
      "execution_count": 8,
      "metadata": {
        "id": "YO83W2YrJhPI"
      },
      "outputs": [],
      "source": [
        "def final_loop(train_dataloader,test_dataloader,model, criterion, optimizer, num_epochs=10):\n",
        "  \n",
        "\n",
        "  for epoch in range(1, num_epochs):\n",
        "    \n",
        "      total_training_loss = train(model, criterion, optimizer, num_epochs=10)\n",
        "      total_valid_loss = evaluate(test_dataloader, model, criterion, num_epochs = 10)       \n",
        "      train_acc = accuracy(model, train_dataloader, device=device)\n",
        "      valid_acc = accuracy(model, test_dataloader, device=device)\n",
        "                  \n",
        "\n",
        "      print(\n",
        "            f'Epoch: {epoch}\\t')\n",
        "      print(f'Train loss: {total_training_loss:.4f}\\t')\n",
        "      print(f'Valid loss: {total_valid_loss:.4f}\\t')\n",
        "      print(f'Train accuracy: {100 * train_acc:.2f}\\t')\n",
        "      print(f'Valid accuracy: {100 * valid_acc:.2f}')\n",
        "\n",
        "  return model, optimizer , (total_training_loss, total_valid_loss) "
      ]
    },
    {
      "cell_type": "code",
      "execution_count": 9,
      "metadata": {
        "colab": {
          "base_uri": "https://localhost:8080/",
          "height": 1000
        },
        "id": "aIkfRl3UdPdT",
        "outputId": "3cbbf65c-09a3-4173-e746-dab749b062c6"
      },
      "outputs": [
        {
          "output_type": "stream",
          "name": "stdout",
          "text": [
            "Epoch: 1\t\n",
            "Train loss: 0.0539\t\n",
            "Valid loss: 0.0522\t\n",
            "Train accuracy: 97.17\t\n",
            "Valid accuracy: 97.38\n",
            "Epoch: 2\t\n",
            "Train loss: 0.0302\t\n",
            "Valid loss: 0.0116\t\n",
            "Train accuracy: 97.62\t\n",
            "Valid accuracy: 97.74\n",
            "Epoch: 3\t\n",
            "Train loss: 0.1581\t\n",
            "Valid loss: 0.0281\t\n",
            "Train accuracy: 97.95\t\n",
            "Valid accuracy: 97.99\n",
            "Epoch: 4\t\n",
            "Train loss: 0.0904\t\n",
            "Valid loss: 0.0426\t\n",
            "Train accuracy: 98.93\t\n",
            "Valid accuracy: 98.77\n",
            "Epoch: 5\t\n",
            "Train loss: 0.0033\t\n",
            "Valid loss: 0.0009\t\n",
            "Train accuracy: 99.06\t\n",
            "Valid accuracy: 98.67\n",
            "Epoch: 6\t\n",
            "Train loss: 0.0031\t\n",
            "Valid loss: 0.0131\t\n",
            "Train accuracy: 99.27\t\n",
            "Valid accuracy: 98.87\n",
            "Epoch: 7\t\n",
            "Train loss: 0.0011\t\n",
            "Valid loss: 0.0295\t\n",
            "Train accuracy: 99.11\t\n",
            "Valid accuracy: 98.79\n",
            "Epoch: 8\t\n",
            "Train loss: 0.0027\t\n",
            "Valid loss: 0.0004\t\n",
            "Train accuracy: 99.29\t\n",
            "Valid accuracy: 98.64\n",
            "Epoch: 9\t\n",
            "Train loss: 0.0025\t\n",
            "Valid loss: 0.1211\t\n",
            "Train accuracy: 99.43\t\n",
            "Valid accuracy: 98.79\n"
          ]
        },
        {
          "output_type": "display_data",
          "data": {
            "text/plain": [
              "<Figure size 640x480 with 1 Axes>"
            ],
            "image/png": "[encoded data removed]"
          },
          "metadata": {}
        }
      ],
      "source": [
        "final_acc = final_loop(train_dataloader,test_dataloader,model, criterion, optimizer, num_epochs=10)"
      ]
    },
    {
      "cell_type": "code",
      "source": [],
      "metadata": {
        "id": "HjdX-4wjRo7q"
      },
      "execution_count": 67,
      "outputs": []
    }
  ],
  "metadata": {
    "accelerator": "GPU",
    "colab": {
      "provenance": []
    },
    "gpuClass": "standard",
    "kernelspec": {
      "display_name": "Python 3",
      "name": "python3"
    },
    "language_info": {
      "name": "python"
    }
  },
  "nbformat": 4,
  "nbformat_minor": 0
}